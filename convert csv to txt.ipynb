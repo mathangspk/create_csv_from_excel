{
 "cells": [
  {
   "cell_type": "code",
   "execution_count": 2,
   "id": "ac6738d7",
   "metadata": {},
   "outputs": [],
   "source": [
    "import csv\n",
    "import os\n",
    "\n",
    "def csv_to_txt(csv_folder):\n",
    "    # Lặp qua tất cả các file CSV trong thư mục\n",
    "    for csv_file in os.listdir(csv_folder):\n",
    "        if csv_file.endswith('.csv'):\n",
    "            csv_path = os.path.join(csv_folder, csv_file)\n",
    "            txt_file = os.path.splitext(csv_file)[0] + '.txt'\n",
    "            txt_path = os.path.join(csv_folder, txt_file)\n",
    "\n",
    "            with open(csv_path, 'r') as csvfile:\n",
    "                reader = csv.reader(csvfile)\n",
    "                with open(txt_path, 'w') as txtfile:\n",
    "                    for row in reader:\n",
    "                        line = ','.join(row)\n",
    "                        txtfile.write(line + '\\n')\n",
    "\n",
    "# Thay đổi 'đường_dẫn_thư_mục_csv' thành đường dẫn thực tế của thư mục chứa các file CSV\n",
    "csv_folder = '//tsclient/D/temp/IC35/csv IC35G-00104'\n",
    "csv_to_txt(csv_folder)\n"
   ]
  },
  {
   "cell_type": "code",
   "execution_count": null,
   "id": "702c8da0",
   "metadata": {},
   "outputs": [],
   "source": []
  }
 ],
 "metadata": {
  "kernelspec": {
   "display_name": "Python 3 (ipykernel)",
   "language": "python",
   "name": "python3"
  },
  "language_info": {
   "codemirror_mode": {
    "name": "ipython",
    "version": 3
   },
   "file_extension": ".py",
   "mimetype": "text/x-python",
   "name": "python",
   "nbconvert_exporter": "python",
   "pygments_lexer": "ipython3",
   "version": "3.11.5"
  }
 },
 "nbformat": 4,
 "nbformat_minor": 5
}
